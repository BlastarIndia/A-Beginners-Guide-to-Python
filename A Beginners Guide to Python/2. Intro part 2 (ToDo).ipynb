{
 "cells": [
  {
   "cell_type": "markdown",
   "metadata": {
    "collapsed": true
   },
   "source": [
    "What does it all mean?\n",
    "\n",
    "With this lecture series my main goals can be boiled down to three ideas:\n",
    "\n",
    "    Give you guys basic how-to skills of Python.\n",
    "    Help you guys understand Python at a more philosophical level.\n",
    "    Give you guys the tools to learn and think for yourselves!\n",
    "\n",
    "This peom is, I think a pretty good way to teach the secound of these bullet points. Basically, every line of this people is about what makes Python, well, Python. These mere few lines can get us a glimpse of the (for want of a better word) soul of Python.\n",
    "\n",
    "In short, not only do I want you guys to know how to do stuff, I also want you guys to learn to appreciate some of the more aethetic qualities of code, I want you to get an intuition for what makes code \"good\" and what makes code \"bad\" (beyond the working / not-working distinction!).\n",
    "\n",
    "In this lecture series I want to get you guys to understand as many lines of this peom as I can. But today I want to talk about two lines of the peom. "
   ]
  }
 ],
 "metadata": {
  "kernelspec": {
   "display_name": "Python 3",
   "language": "python",
   "name": "python3"
  },
  "language_info": {
   "codemirror_mode": {
    "name": "ipython",
    "version": 3
   },
   "file_extension": ".py",
   "mimetype": "text/x-python",
   "name": "python",
   "nbconvert_exporter": "python",
   "pygments_lexer": "ipython3",
   "version": "3.5.2"
  }
 },
 "nbformat": 4,
 "nbformat_minor": 2
}
