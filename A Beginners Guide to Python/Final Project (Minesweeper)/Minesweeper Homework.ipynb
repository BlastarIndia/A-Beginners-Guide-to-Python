{
 "cells": [
  {
   "cell_type": "code",
   "execution_count": 26,
   "metadata": {},
   "outputs": [
    {
     "name": "stdout",
     "output_type": "stream",
     "text": [
      "['0', '0', '0', '0', '0', '0', '0']\n",
      "['0', '0', '0', '0', '0', '0', '0']\n",
      "['0', '0', '0', 'B', '0', '0', '0']\n",
      "['0', '0', '0', '0', '0', '0', '0']\n"
     ]
    }
   ],
   "source": [
    "import random\n",
    "\n",
    "BOMB_COUNT = 12\n",
    "ROWS = 4\n",
    "COLS = 7\n",
    "\n",
    "def build_board(rows, cols):\n",
    "    board = []\n",
    "    for _ in range(rows):\n",
    "        board.append([\"0\"] * cols)\n",
    "    return board\n",
    "\n",
    "BOARD = build_board(rows, cols)\n",
    "\n",
    "def set_bombs(board, BOMB_COUNT):\n",
    "    assert BOMB_COUNT < ROWS*COLS\n",
    "    \n",
    "    bombs_set = 0    \n",
    "    while bombs_set != BOMB_COUNT:\n",
    "        x = random.choice(range(ROWS))\n",
    "        y = random.choice(range(COLS))\n",
    "        if get_square(BOARD, x, y) != \"B\":\n",
    "            set_square(x, y, \"B\")\n",
    "            bombs_set += 1\n",
    "    \n",
    "\n",
    "def get_square(board, row, col):\n",
    "    return board[row][col]\n",
    "\n",
    "def set_square(row, col, value):\n",
    "    global BOARD\n",
    "    BOARD[row][col] = value\n",
    "\n",
    "def print_board(board):\n",
    "    print(*board, sep=\"\\n\")\n",
    "\n",
    "set_bombs(BOARD, BOMB_COUNT)\n",
    "\n",
    "set_square(0, 0, \"X\")\n",
    "print_board(board)"
   ]
  },
  {
   "cell_type": "code",
   "execution_count": null,
   "metadata": {
    "collapsed": true
   },
   "outputs": [],
   "source": []
  },
  {
   "cell_type": "code",
   "execution_count": null,
   "metadata": {
    "collapsed": true
   },
   "outputs": [],
   "source": []
  }
 ],
 "metadata": {
  "kernelspec": {
   "display_name": "Python 3",
   "language": "python",
   "name": "python3"
  },
  "language_info": {
   "codemirror_mode": {
    "name": "ipython",
    "version": 3
   },
   "file_extension": ".py",
   "mimetype": "text/x-python",
   "name": "python",
   "nbconvert_exporter": "python",
   "pygments_lexer": "ipython3",
   "version": "3.5.2"
  }
 },
 "nbformat": 4,
 "nbformat_minor": 2
}
