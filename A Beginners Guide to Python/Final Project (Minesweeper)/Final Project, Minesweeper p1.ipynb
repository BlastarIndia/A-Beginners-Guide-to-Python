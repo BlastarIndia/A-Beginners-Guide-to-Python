{
 "cells": [
  {
   "cell_type": "markdown",
   "metadata": {},
   "source": [
    "# Final Project: Minesweeper, Part One\n",
    "\n",
    "Congratulations guys, you are sooo close to the finish line. This lecture is going to be comprised of several parts, As homework I am going to set you a task of creating a function and by the end of it we should have several functions that fit together to make a functional minesweeper game. Just for the record you can do it however you wish, by no means feel obligated to follow the structure I have set out. In part one we shall be introducing the game, the project, and building the board.\n",
    "\n",
    "## The game\n",
    "\n",
    "* The Rules: [clicky here](http://www.wikihow.com/Play-Minesweeper)\n",
    "* To play: [clicky here](http://minesweeperonline.com/#)\n",
    "\n",
    "## The project\n",
    "\n",
    "Alright guys, so this is going to be the largest program many of you have ever written. Knowing your Python syntax isn't going to sufficient to suceed. Before you start, it might be a good idea to take a quick refresher in \"design decisions\". I say that because big projects need you to think about the big picture!\n",
    "\n",
    "Okay okay, lets quickly make a list of tasks we need to accomplish:\n",
    "\n",
    "* Build a board, (with bombs)\n",
    "* Have a function that works out how many neibours are bombs. \n",
    "* A way to show the player the board\n",
    "* Have a 'reveal square' mechanic (player action) \n",
    "* Have a 'flag' mechanice (player action)\n",
    "\n",
    "Alright, so lets start with the big picture thinking. How to do represent the board itself? Well, as we saw the the chess program is seems like nested lists trump strings. So lets run with that.\n",
    "\n",
    "If we have a nested list structure can we forsee any problems with the number of neibour bombs function? I dont think so, if we have a square and want to know how many bombs it has as neibours we can just index into the niebour squares and count. \n",
    "\n",
    "Revealing the board, how might we do that? Well, there are few ways, but here's a nice solution: we build two boards of the same size, one is the actual game board and the other is a board the we \"place over\" the game board. And because these boards are going to 'overlap' the position (x, y) for one board has a 1:1 correspondence with the other board. In other words, the index of one board is directly underneath the other. Neat huh?\n",
    "\n",
    "Notice that spending some time now has potentically saved us a lot of time in the future; now that we now know we need to build two game boards our \"build board\" function, if we generalise it, the function can be used to build both boards.\n",
    "\n",
    "And as already eluded to, the player actions of reveal and flaging squares can probably be handled by just indexing into the board. \n",
    "\n",
    "Okay cool. Sounds like we have a plan. Can we think of anything else? Here's a hint, re-read the above section. If you did re-read the section did you notice how many times we seem to be indexing into a board? Maybe we should building a seperate index function to handle that for us. \n",
    "\n",
    "### Building the Board\n",
    "\n",
    "Okay, so here's your task create a build board function that does the following:\n",
    "\n",
    "1. Can build a board of any dimension if we give it (x, y). E.g. x=5, y=5 = a 5x5 grid\n",
    "1. Can build the board with N bombs (where N can also be zero). \n",
    "1. Takes an optional argument which can be used to fill non-bomb squares. \n",
    "1. bombs should be denoted by the capital letter \"B\".\n",
    "1. bombs should be placed on random squares (hint; use random module).\n",
    "\n",
    "So thats a number of things we have to do. Now before you start I want to briefly introduce you to TDD.\n",
    "\n",
    "### TDD\n",
    "\n",
    "TDD stands for test driven development, its a software development paradigm that suggests we build tests BEFORE we build the actual function. But spending some time thinking up tests you can sometimes spot errors and difficulties ahead of time. \n",
    "\n",
    "So here's the deal; I'm going to give you some starter code and a bunch of tests (you should add your own tests, by the way) If you pass all my tests there is a good chance that code is working correctly, if not, see what test you failed and why. \n",
    "\n",
    "### Starter code 1, Building the board."
   ]
  },
  {
   "cell_type": "code",
   "execution_count": null,
   "metadata": {
    "collapsed": true
   },
   "outputs": [],
   "source": [
    "#def build_board(x, y, bomb_count, non_bomb_character=\"-\"):\n",
    "    # Your code here...\n",
    "#    pass"
   ]
  },
  {
   "cell_type": "code",
   "execution_count": 31,
   "metadata": {
    "collapsed": true
   },
   "outputs": [],
   "source": [
    "# MY CODE, MUST DELETE\n",
    "\n",
    "import random\n",
    "\n",
    "def build_board(r, c, b=0, non_bomb_character=\"-\"):\n",
    "    board_temp = [\"B\"] * b + [non_bomb_character] * (r*c-b)\n",
    "\n",
    "    if b:\n",
    "        random.shuffle(board_temp)\n",
    "\n",
    "    board = []\n",
    "    for i in range(0, r*c, c ):\n",
    "        board.append(board_temp[i : i+c])\n",
    "    return board"
   ]
  },
  {
   "cell_type": "markdown",
   "metadata": {},
   "source": [
    "### Test Suite\n",
    "\n",
    "Note, I can't test for your ability to test for random bomb placement. You need to do that youself. you can use the following:\n",
    "\n",
    "    >>> import random\n",
    "    >>> random.seed(30)\n",
    "    >>> build_board(2, 2, 2)\n",
    "    {Enter what the result should be here. Check for correctness by hand}\n",
    "    >>> build_board(2, 2, 2)\n",
    "    {Repeat above step}\n",
    "    >>> build_board(2, 2, 2)\n",
    "    {Repeat above step}\n",
    "\n",
    "Basically you need to check the the two bombs, in a 2x2 grid are on random squares. "
   ]
  },
  {
   "cell_type": "code",
   "execution_count": 33,
   "metadata": {},
   "outputs": [
    {
     "name": "stdout",
     "output_type": "stream",
     "text": [
      "TESTING COMPLETE... if you see nothing, (other than this message) that means all tests passed\n"
     ]
    }
   ],
   "source": [
    "def test_board():\n",
    "    \"\"\"\n",
    "    >>> build_board(1,3, 3)\n",
    "    [['B', 'B', 'B']]\n",
    "    >>> build_board(3, 1, 0, non_bomb_character = \"X\")\n",
    "    [['X'], ['X'], ['X']]\n",
    "    >>> build_board(3, 6, 0, non_bomb_character = \"y\")\n",
    "    [['y', 'y', 'y', 'y', 'y', 'y'], ['y', 'y', 'y', 'y', 'y', 'y'], ['y', 'y', 'y', 'y', 'y', 'y']]\n",
    "    >>> build_board(3, 3, 9)\n",
    "    [['B', 'B', 'B'], ['B', 'B', 'B'], ['B', 'B', 'B']]\n",
    "    >>> build_board(3, 3, 300)\n",
    "    [['B', 'B', 'B'], ['B', 'B', 'B'], ['B', 'B', 'B']]\n",
    "    >>> build_board(4, 3, 0)\n",
    "    [['-', '-', '-'], ['-', '-', '-'], ['-', '-', '-'], ['-', '-', '-']]\n",
    "    \"\"\"\n",
    "    import doctest\n",
    "    doctest.testmod()\n",
    "    print(\"TESTING COMPLETE... if you see nothing, (other than this message) that means all tests passed.\")\n",
    "\n",
    "test_board()"
   ]
  },
  {
   "cell_type": "markdown",
   "metadata": {},
   "source": [
    "## Starter Code 2, Printing the board"
   ]
  },
  {
   "cell_type": "code",
   "execution_count": null,
   "metadata": {
    "collapsed": true
   },
   "outputs": [],
   "source": [
    "#def print_board(board):\n",
    "    \"\"\"Takes a board and prints out each row on a new line\"\"\"\n",
    "    # YOUR CODE HERE\n",
    "#    pass"
   ]
  },
  {
   "cell_type": "code",
   "execution_count": null,
   "metadata": {
    "collapsed": true
   },
   "outputs": [],
   "source": [
    "# MY CODE MUST DELETE\n",
    "def print_board(board):\n",
    "    \"\"\" Prints a board, each row on a new line.\"\"\"\n",
    "    print(*board, sep=\"\\n\")\n"
   ]
  },
  {
   "cell_type": "markdown",
   "metadata": {},
   "source": [
    "## Test Suite 2"
   ]
  },
  {
   "cell_type": "code",
   "execution_count": null,
   "metadata": {
    "collapsed": true
   },
   "outputs": [],
   "source": [
    "def test_print():\n",
    "    \"\"\"\n",
    "    \n",
    "    \"\"\"\n",
    "    \n",
    "    import doctest\n",
    "    doctest.testmod()\n",
    "    print(\"TESTING COMPLETE... if you see nothing, (other than this message) that means all tests passed.\")\n",
    "\n",
    "test_print()"
   ]
  }
 ],
 "metadata": {
  "kernelspec": {
   "display_name": "Python 3",
   "language": "python",
   "name": "python3"
  },
  "language_info": {
   "codemirror_mode": {
    "name": "ipython",
    "version": 3
   },
   "file_extension": ".py",
   "mimetype": "text/x-python",
   "name": "python",
   "nbconvert_exporter": "python",
   "pygments_lexer": "ipython3",
   "version": "3.5.2"
  }
 },
 "nbformat": 4,
 "nbformat_minor": 2
}
