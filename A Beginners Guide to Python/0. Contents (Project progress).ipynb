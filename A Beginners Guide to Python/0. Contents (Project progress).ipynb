{
 "cells": [
  {
   "cell_type": "markdown",
   "metadata": {},
   "source": [
    "# CONTENTS     "
   ]
  },
  {
   "cell_type": "markdown",
   "metadata": {},
   "source": [
    "## ToDo list\n",
    "\n",
    "1. More Homeworks?\n",
    "1. Introduction2\n",
    "1. Main Project, (minesweeper)\n",
    "1. Bye lecture\n",
    "1. Acknowedgements\n",
    "1. Better lectures titles, __23 is bloody crap.\n",
    "1. Finalise all slides."
   ]
  },
  {
   "cell_type": "markdown",
   "metadata": {},
   "source": [
    "The ticks represent the stage I'm at:\n",
    "\n",
    "* ToDo = not even started yet\n",
    "* ✓ = completed the first draft but significant revision maybe required. (spelling/typographical errors abound)\n",
    "* ✓✓ = 2nd Draft. This should be free from most typograhical errors and \"feature complete\".\n",
    "* ✓✓✓ = Intended final version, should only change to correct mistakes and typos (if any)\n",
    "\n",
    "Lectures names subject to change. All the lectures are approximatly ordered.  \n",
    "\n",
    "1. Introduction1 ✓✓h\n",
    "1. Introduction2 ToDo        (ToDo  explain why no tuples/sets/dicts, course phil, zen py, etc)\n",
    "1. Hello World! ✓✓h\n",
    "1. Comments ✓✓✓h\n",
    "1. Assignment ✓✓h\n",
    "1. Names ✓✓h\n",
    "1. Python Philosophy1&2 ✓✓\n",
    "1. Calling Functions  ✓✓\n",
    "1. Numbers1&2 ✓✓\n",
    "1. Strings1 ✓✓h\n",
    "1. On the Importance of Errors (oh, and Operator Overloading) ✓✓\n",
    "1. An Intuition for OOP ✓✓\n",
    "1. Strings & methods ✓✓       \n",
    "1. Lists ✓✓  \n",
    "1. Indexing & Slicing ✓✓\n",
    "1. sorting ✓✓\n",
    "1. If, else, Logic, and Laziness ✓✓\n",
    "1. Indentation ✓✓h\n",
    "1. For-Loops ✓✓h\n",
    "1. Functions & Namespaces ✓✓\n",
    "1. The Joy of Fast Cars  ✓✓h\n",
    "1. Common Error Messages ✓✓\n",
    "1. Try / Except ✓✓\n",
    "1. Getting Help ✓✓h\n",
    "1. Introduction to Testing ✓✓h\n",
    "1. Design Decisions: How to Build a Chess Game ✓✓\n",
    "1. FinalProject (Minesweeper tutorial)    (ToDo)\n",
    "1. Where to go from here... ✓✓h\n",
    "1. Byebye!                                (ToDo)\n",
    "1. Acknowledgements, appendix, etc.       (ToDo)\n",
    "\n",
    "HOMEWORK PROGRESS...\n",
    "\n",
    "1. Intro ✓✓✓\n",
    "1. hi world ✓✓✓\n",
    "1. assignment ✓✓✓\n",
    "1. Names ✓✓✓\n",
    "1. stringsh1 ✓✓✓, h2 ✓✓✓\n",
    "1. indentation ✓✓\n",
    "1. for loops ✓✓\n",
    "1. Functions ✓✓\n",
    "1. fast cars ✓✓✓\n",
    "1. get help ✓✓\n",
    "1. testing ✓✓\n",
    "1. where to go from here ✓✓"
   ]
  }
 ],
 "metadata": {
  "kernelspec": {
   "display_name": "Python 3",
   "language": "python",
   "name": "python3"
  },
  "language_info": {
   "codemirror_mode": {
    "name": "ipython",
    "version": 3
   },
   "file_extension": ".py",
   "mimetype": "text/x-python",
   "name": "python",
   "nbconvert_exporter": "python",
   "pygments_lexer": "ipython3",
   "version": "3.5.2"
  }
 },
 "nbformat": 4,
 "nbformat_minor": 2
}
