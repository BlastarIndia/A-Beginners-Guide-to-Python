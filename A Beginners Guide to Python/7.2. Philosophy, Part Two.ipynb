{
 "cells": [
  {
   "cell_type": "markdown",
   "metadata": {},
   "source": [
    "> “Explicit is better than implicit”. \n",
    "\n",
    "What does this line of the poem refer to? Well, there are several examples and interpretations one could give, but today I would to interpret this line with reference to the idea of readability. \n",
    "\n",
    "We wrapped part one by talking about a function that contains no defenses against misue. To jog your memory, here's the code again:"
   ]
  },
  {
   "cell_type": "code",
   "execution_count": null,
   "metadata": {
    "collapsed": true
   },
   "outputs": [],
   "source": [
    "def force(mass, acceleration):\n",
    "    return mass * acceleration  "
   ]
  },
  {
   "attachments": {},
   "cell_type": "markdown",
   "metadata": {},
   "source": [
    "in a very literal this function takes two objects and returns mass * acceleration. What does that mean? Why should we care? Well, the meaning of this code is implicit, the author just assumes you are going to understand what it does and how to use it. The premise of today's lecture is that this code can be rewritten to be more explicit, and being explicit is to be prefered. \n",
    "\n",
    "To be more precise, the code make two implicit assumpts:\n",
    "\n",
    "1. The end user has a basic understanding of Physics. \n",
    "1. The end user knows to pass it floats. \n",
    "\n",
    "regarding the second point above I'm not going to explain *why* this is a problem today *(for that explanation, see Operator Overloading)*, but I will propose a few possible fixes. But first things first, lets talk physics!\n",
    "\n",
    "To People with a modest background in Physics its pretty obvoius all we are doing is taking the formula for force, ***f=ma***, and puting it in code. \n",
    "\n",
    "But to understand the problem with the code, we need to imagine talking to someone that NEVER took a physics lesson at school before. For this person, they understand that we are multipilying two numbers (i.e Mass, Acceleration) but they have not concept of what the result *actually means.* In short, the code only returns *force* if you know the physics, for everyone else the function returns two numbers multiplied together.\n",
    "\n",
    "In short, the code is being implicit but the peom tells us to be explicit. Alright, let's try and fix that now... "
   ]
  },
  {
   "cell_type": "code",
   "execution_count": 8,
   "metadata": {},
   "outputs": [
    {
     "name": "stdout",
     "output_type": "stream",
     "text": [
      "20 32.2323\n"
     ]
    },
    {
     "ename": "AssertionError",
     "evalue": "FUUUUUUUUUU",
     "output_type": "error",
     "traceback": [
      "\u001b[0;31m---------------------------------------------------------------------------\u001b[0m",
      "\u001b[0;31mAssertionError\u001b[0m                            Traceback (most recent call last)",
      "\u001b[0;32m<ipython-input-8-a3107c2b5c95>\u001b[0m in \u001b[0;36m<module>\u001b[0;34m()\u001b[0m\n\u001b[1;32m      8\u001b[0m \u001b[0;34m\u001b[0m\u001b[0m\n\u001b[1;32m      9\u001b[0m \u001b[0mprint\u001b[0m\u001b[0;34m(\u001b[0m \u001b[0;36m20\u001b[0m\u001b[0;34m,\u001b[0m \u001b[0;36m32.2323\u001b[0m\u001b[0;34m)\u001b[0m\u001b[0;34m\u001b[0m\u001b[0m\n\u001b[0;32m---> 10\u001b[0;31m \u001b[0mprint\u001b[0m\u001b[0;34m(\u001b[0m \u001b[0mforce\u001b[0m\u001b[0;34m(\u001b[0m\u001b[0;34m\"jkl\"\u001b[0m\u001b[0;34m,\u001b[0m \u001b[0;36m209\u001b[0m\u001b[0;34m)\u001b[0m\u001b[0;34m)\u001b[0m \u001b[0;31m# Error\u001b[0m\u001b[0;34m\u001b[0m\u001b[0m\n\u001b[0m",
      "\u001b[0;32m<ipython-input-8-a3107c2b5c95>\u001b[0m in \u001b[0;36mforce\u001b[0;34m(mass, acceleration)\u001b[0m\n\u001b[1;32m      1\u001b[0m \u001b[0;32mdef\u001b[0m \u001b[0mforce\u001b[0m\u001b[0;34m(\u001b[0m\u001b[0mmass\u001b[0m\u001b[0;34m,\u001b[0m \u001b[0macceleration\u001b[0m\u001b[0;34m)\u001b[0m\u001b[0;34m:\u001b[0m\u001b[0;34m\u001b[0m\u001b[0m\n\u001b[0;32m----> 2\u001b[0;31m     \u001b[0;32massert\u001b[0m \u001b[0misinstance\u001b[0m\u001b[0;34m(\u001b[0m\u001b[0mmass\u001b[0m\u001b[0;34m,\u001b[0m \u001b[0mfloat\u001b[0m\u001b[0;34m)\u001b[0m \u001b[0;32mor\u001b[0m \u001b[0misinstance\u001b[0m\u001b[0;34m(\u001b[0m\u001b[0mmass\u001b[0m\u001b[0;34m,\u001b[0m \u001b[0mint\u001b[0m\u001b[0;34m)\u001b[0m\u001b[0;34m,\u001b[0m \u001b[0;34m\"FUUUUUUUUUU\"\u001b[0m\u001b[0;34m\u001b[0m\u001b[0m\n\u001b[0m\u001b[1;32m      3\u001b[0m     \u001b[0;32massert\u001b[0m \u001b[0misinstance\u001b[0m\u001b[0;34m(\u001b[0m\u001b[0macceleration\u001b[0m\u001b[0;34m,\u001b[0m \u001b[0mfloat\u001b[0m\u001b[0;34m)\u001b[0m \u001b[0;32mor\u001b[0m \u001b[0misinstance\u001b[0m\u001b[0;34m(\u001b[0m\u001b[0macceleration\u001b[0m\u001b[0;34m,\u001b[0m \u001b[0mint\u001b[0m\u001b[0;34m)\u001b[0m\u001b[0;34m\u001b[0m\u001b[0m\n\u001b[1;32m      4\u001b[0m \u001b[0;34m\u001b[0m\u001b[0m\n\u001b[1;32m      5\u001b[0m     \u001b[0;31m# ^ A blank line; \"Sparse is better than dense\".\u001b[0m\u001b[0;34m\u001b[0m\u001b[0;34m\u001b[0m\u001b[0m\n",
      "\u001b[0;31mAssertionError\u001b[0m: FUUUUUUUUUU"
     ]
    }
   ],
   "source": [
    "def force(mass, acceleration):\n",
    "    assert isinstance(mass, float) or isinstance(mass, int), \"FUUUUUUUUUU\"\n",
    "    assert isinstance(acceleration, float) or isinstance(acceleration, int) \n",
    "    \n",
    "    # ^ A blank line; \"Sparse is better than dense\".\n",
    "    force = mass * acceleration\n",
    "    return force\n",
    "\n",
    "print( 20, 32.2323)\n",
    "print( force(\"jkl\", 209)) # Error, strings are not supported. "
   ]
  },
  {
   "cell_type": "markdown",
   "metadata": {},
   "source": [
    "This code has new keyword that we have not seen before. What does do and how can we use it?\n",
    "\n",
    "## Assert\n",
    "\n",
    "Assert it used for raising errors. It takes True/False statement and a string (optional). If the statement is false assert raises the AssertionError and exits the code. If the assert statement is True everything continues as normal.\n",
    "\n",
    "\tThe Syntax:\n",
    "\tassert {True/False Condition}, {string, optional}\n",
    "  \n",
    "Yes guys, Python actually has a way to ‘break’ your own code with error messages. Why would you want to do that? Well, it helps safeguard against misuse and garbage output (defensive programming). Later in the course I’ll try to explain why getting garbage out is considerably worse than getting an error message, but until then you’ll just have to trust me. \n",
    "\n",
    "In this particular example, the first assert statement is asking if mass is a integer or a float. If it is neither we raise the AssertionError with the message “FUUUUUUUU”.\n",
    "\n",
    "The use of assert in the function helps make the code at lot more explicit than it previously was.\n",
    "\n",
    "## Defining Force\n",
    "\n",
    "This code does one more thing that makes things more explicit. instead of returning:\n",
    "\n",
    "    Mass * Acceleration\n",
    "    \n",
    "we now return:\n",
    "\n",
    "    Force \n",
    "    \n",
    "...And the line above the return statement clearly assigns force to 'Mass * Acceleration'. So now even those readers without the physics background know the function is returning force. \n",
    "\n",
    "## A Quick note about blank space...\n",
    "\n",
    "The last thing I want to point your attention to is the use of blank space. The above function has two assert statements followed by a blank line followed by the formula. Whats that all about? \n",
    "\n",
    "Well lets think about the English language for a moment. When writing, we use paragraphs to separate out content. \n",
    "\n",
    "If we create a new paragraph, then that tells the reader that the next chunk of text is a change of topic.\n",
    "\n",
    "The change of topic is too significant for a new sentence to handle, but its also too minor to require a new heading/chapter. \n",
    "\n",
    "And when we do not follow those basics guidelines and split text incorrectly and/or inconsistently it feels a bit weird.\n",
    "\n",
    "And it is much harder to understand what is going on.\n",
    "\n",
    "isn’t it? \n",
    "\n",
    "The point I'm making here is that it makes a lot sense within English to use blank space as a means of visually separating out our ideas. The result is more readable text. In the code above, I took principle of a 'paragraph' and applied it. More specifically, the first two lines are *about testing* whereas the last two lines are about *getting the stuff done.* And So, **a simple line-break helps visually separate the logically distinct bits of code(within the function).**   \n",
    "\n",
    "So at this point we have made several changes and now function is not considerably more verbose than once was, thats the trade-off we must make if we are to be explicit.\n",
    "\n",
    "But let's stop and think about this; what are we *really* doing here? It seems like we are adding bits of code that don't add anything logically necessary to the functioning of our code. Rather, we have added lines of code to essentially explain what the code does and how it should be used. And now I really hope you guys are thinking:\n",
    "\n",
    "    \"If that is all we are doing, wouldn't a comment suffice?\"\n",
    "\n",
    "I like your style batman!"
   ]
  },
  {
   "cell_type": "code",
   "execution_count": 12,
   "metadata": {
    "collapsed": true
   },
   "outputs": [],
   "source": [
    "def force(mass, acceleration):\n",
    "    \"\"\"\n",
    "    Calculates f=ma, returns force (which is of type float).\n",
    "    We assume mass, acceleration are of type float.\n",
    "    \"\"\"\n",
    "    return mass * acceleration"
   ]
  },
  {
   "cell_type": "markdown",
   "metadata": {},
   "source": [
    "## Docstrings\n",
    "\n",
    "The above code has a new concept to talk about. The red text encased in triple quotes is called a docstring, its a special of string that Python Programmers use to communicate with each other. Usually docstrings contain information about how the function works, and how to use it. Such is the case here.  \n",
    "\n",
    "\tThe Syntax\n",
    "\t“””\n",
    "\t{Text}\n",
    "\t“”” \n",
    "\n",
    "This particular docstring tells use that the function expected us to give floats, and it also mentions what it is supposed to do (i.e. calculate f=ma). In short, adding documentation has helped make our function much more explict. \n",
    "\n",
    "## What solution is best?"
   ]
  },
  {
   "cell_type": "markdown",
   "metadata": {},
   "source": [
    "In my opinion the documentation solution is vastly superior to the ‘hard-wire’ solution. But before I explain why let’s but the two code samples next to one another. That way, we won't have to continually scroll back up."
   ]
  },
  {
   "cell_type": "code",
   "execution_count": null,
   "metadata": {
    "collapsed": true
   },
   "outputs": [],
   "source": [
    "# DOCUMENTATION SOLUTION ... \n",
    "def force(mass, acceleration):\n",
    "    \"\"\"\n",
    "    Calculates f=ma, returns force.\n",
    "    We assume mass, acceleration are of type float.\n",
    "    \"\"\"\n",
    "    return mass * acceleration\n",
    "\n",
    "# 'Hard-wire' SOLUTION ...\n",
    "def force(mass, acceleration):\n",
    "    assert mass == type(float)         \n",
    "    assert acceleration == type(float)  \n",
    "\n",
    "    force = mass * acceleration\n",
    "    return force"
   ]
  },
  {
   "cell_type": "markdown",
   "metadata": {},
   "source": [
    "In my opinion the documentation solution is vastly superior to the ‘hard-wire’ solution. But before I explain why let’s but the two code samples next to one another. That way, we wont;t have to continually scroll back up. \n",
    "\n",
    "My preference for the documentation solution is based upon several ideas. Firstly we should be adding documentation for all functions, thus if the ‘hard-wire’ solution is going to get its own docstring then the discussion is somewhat moot. The second I’d make it the less Python code we write the better, since that means there are fewer things to go wrong. My third argument however, is much philosophical. \n",
    "\n",
    "## Freedom & Responsibility\n",
    "\n",
    "In a nutshell, the ‘hard-wire’ code attempts to prevent misuse by walling itself in. The documentation solution aims to prevent misuse by educating the reader about what is expected.\n",
    "\n",
    "In Python there is a saying: \n",
    "\n",
    "> \"We are all responsible users\"\n",
    "\n",
    "The meaning of that quote is basically *\"hey, if you use my code I trust that you will call my code how it is intended to be called. If my code breaks because you did something I didn't anticipate then that’s not my fault, its yours”.*\n",
    "\n",
    "And lets not forget that … \n",
    "\n",
    "> \"...with great freedom comes great responsibility\" ~ Eleanor Roosevelt\n",
    "\n",
    "This idea openness and responsibility is very much core to Python Philosophy; the language allows you tinker with almost everything, and this incredible freedom is ultimately underpinned by a conventional wisdom that trusts you to be responsible. \n",
    "\n",
    "Think about it this way; if I write a piece of code has a bunch of 'helpful warnings' in the documentation but it doesn't ‘hard-wire’ any checks or tests for input then that means other developers have have the ability to use the code in an unexpected way; maybe the behaviour you consider *problematic* is actually *useful* for some other developer out-there who wants to use your code for an entirely different purpose. \n",
    "\n",
    "All things considered what approach is best will depend on the intended purpose and nor is the matter ‘black or white’. But for now, let’s sum up this rather lengthy section by simply saying: \n",
    "* Document your code\n",
    "*  ...And if you have good documentation, you can get away with having less error checking, assert statements and so on. \n"
   ]
  }
 ],
 "metadata": {
  "kernelspec": {
   "display_name": "Python 3",
   "language": "python",
   "name": "python3"
  },
  "language_info": {
   "codemirror_mode": {
    "name": "ipython",
    "version": 3
   },
   "file_extension": ".py",
   "mimetype": "text/x-python",
   "name": "python",
   "nbconvert_exporter": "python",
   "pygments_lexer": "ipython3",
   "version": "3.5.2"
  }
 },
 "nbformat": 4,
 "nbformat_minor": 2
}
