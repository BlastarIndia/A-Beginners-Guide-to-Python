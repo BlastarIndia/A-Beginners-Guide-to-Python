{
 "cells": [
  {
   "cell_type": "markdown",
   "metadata": {},
   "source": [
    "# Assignment\n",
    "\n",
    "What is assignment? Well, the short (and simple) answer is to say assignment is the process whereby we give an object/expression a *unique* name. Once something has a name, we can use it later on.\n",
    "\n",
    "    The Syntax\n",
    "    {variable Name} = {value}\n",
    "    \n",
    "Okay, let's give it a go!"
   ]
  },
  {
   "cell_type": "code",
   "execution_count": 1,
   "metadata": {},
   "outputs": [
    {
     "name": "stdout",
     "output_type": "stream",
     "text": [
      "4\n"
     ]
    }
   ],
   "source": [
    "theNumberFour = 4\n",
    "print(theNumberFour)"
   ]
  },
  {
   "cell_type": "markdown",
   "metadata": {},
   "source": [
    "**POP QUIZ!** What happens if we use quotation marks, arround the \"theNumberFour\"?"
   ]
  },
  {
   "cell_type": "code",
   "execution_count": 2,
   "metadata": {},
   "outputs": [
    {
     "name": "stdout",
     "output_type": "stream",
     "text": [
      "theNumberFour\n"
     ]
    }
   ],
   "source": [
    "theNumberFour = 4\n",
    "print(\"theNumberFour\")"
   ]
  },
  {
   "cell_type": "markdown",
   "metadata": {},
   "source": [
    "So...what happened? Well, when we use quotation marks Python interprets that as a **string**. But without quotes, Python looks at *theNumberFour* and says:\n",
    "> \"This looks like a variable name to me, lets go see if it has been defined somewhere **above**\".\n",
    "\n",
    "“Above” is an important word in that sentence. Why is that? Well, let’s see what happens if we define the thing we want to print **below** the print statement,"
   ]
  },
  {
   "cell_type": "code",
   "execution_count": 3,
   "metadata": {},
   "outputs": [
    {
     "ename": "NameError",
     "evalue": "name 'theNumberFive' is not defined",
     "output_type": "error",
     "traceback": [
      "\u001b[0;31m---------------------------------------------------------------------------\u001b[0m",
      "\u001b[0;31mNameError\u001b[0m                                 Traceback (most recent call last)",
      "\u001b[0;32m<ipython-input-3-226a793dc96a>\u001b[0m in \u001b[0;36m<module>\u001b[0;34m()\u001b[0m\n\u001b[0;32m----> 1\u001b[0;31m \u001b[0mprint\u001b[0m\u001b[0;34m(\u001b[0m\u001b[0mtheNumberFive\u001b[0m\u001b[0;34m)\u001b[0m\u001b[0;34m\u001b[0m\u001b[0m\n\u001b[0m\u001b[1;32m      2\u001b[0m \u001b[0mtheNumberFive\u001b[0m \u001b[0;34m=\u001b[0m \u001b[0;36m5\u001b[0m\u001b[0;34m\u001b[0m\u001b[0m\n",
      "\u001b[0;31mNameError\u001b[0m: name 'theNumberFive' is not defined"
     ]
    }
   ],
   "source": [
    "print(theNumberFive)\n",
    "theNumberFive = 5"
   ]
  },
  {
   "cell_type": "markdown",
   "metadata": {},
   "source": [
    "In a future lectures I'll talk about error messages in more detail, but for now I want you to remember just one thing:\n",
    "\n",
    "* Getting error messages is good for you, don’t feel bad about it.\n",
    "\n",
    "When Python throws you are error messages its not trying to say *“haha, you suck”*, rather, Python is trying to help you. Just look above, notice that Python is telling us what sort of error we have (a NameError) and it also tells us what particular line of code broke (this is sometimes known as ‘Traceback’). This information is really helpful when it comes to fixing your code. \n",
    "\n",
    "Anyway, let's get back to talking about assignment..."
   ]
  },
  {
   "cell_type": "markdown",
   "metadata": {},
   "source": [
    "## Don't confuse assignment with 'Equals'\n",
    "\n",
    "In Python, assignment works **left-to-right**, unlike the equals symbol in mathematics assignment **doesn't** work both ways. \n",
    "\n",
    "In other words:     \n",
    "a = b **is not the same as** b = a\n",
    "\n",
    "Basically, the left-hand-side of the \"=\" symbol is the name, on the right-hand-side is the object. \n",
    "\n",
    "Let me show you quickly..."
   ]
  },
  {
   "cell_type": "code",
   "execution_count": null,
   "metadata": {
    "collapsed": true
   },
   "outputs": [],
   "source": [
    "a = 4\n",
    "a = b # throws a name error, b is not defined!"
   ]
  },
  {
   "cell_type": "code",
   "execution_count": null,
   "metadata": {
    "collapsed": true
   },
   "outputs": [],
   "source": [
    "# So what should we do if we want b to equal a?  Well, we would have to write:\n",
    "b = a\n",
    "\n",
    "# and now both a and b should equal 4\n",
    "print(a)\n",
    "print(b)"
   ]
  },
  {
   "cell_type": "code",
   "execution_count": null,
   "metadata": {
    "collapsed": true
   },
   "outputs": [],
   "source": [
    "# and lastly, a and b are both numbers, so  a + b is that same as 4 + 4 (more on numbers later).\n",
    "print(4 + 4)\n",
    "print(a + b)"
   ]
  },
  {
   "cell_type": "markdown",
   "metadata": {},
   "source": [
    "## Homework\n",
    "\n",
    "1.  create a varible called \"my_name\".   Its value should be your name (a string). \n",
    "1.  create a variable called \"kitchen_utensil\". its value should be your favorite kitchen tool (also a string). Personaly, I like a good spoon (wink wink).   \n",
    "1.  Now type into python:    \n",
    "            print(\"Hello, my name is \" + my_name + \" and one time, at band-camp, I used a \" + kitchen_utensil + \".\")\n"
   ]
  },
  {
   "cell_type": "code",
   "execution_count": null,
   "metadata": {
    "collapsed": true
   },
   "outputs": [],
   "source": [
    "# my_name code goes here...\n",
    "# kitchen_utensil code goes here...\n",
    "# copy & paste the above print statement"
   ]
  }
 ],
 "metadata": {
  "kernelspec": {
   "display_name": "Python 3",
   "language": "python",
   "name": "python3"
  },
  "language_info": {
   "codemirror_mode": {
    "name": "ipython",
    "version": 3
   },
   "file_extension": ".py",
   "mimetype": "text/x-python",
   "name": "python",
   "nbconvert_exporter": "python",
   "pygments_lexer": "ipython3",
   "version": "3.5.2"
  }
 },
 "nbformat": 4,
 "nbformat_minor": 2
}
